{
 "cells": [
  {
   "cell_type": "markdown",
   "id": "f397426f",
   "metadata": {},
   "source": [
    "# Caesar's Cypher"
   ]
  },
  {
   "cell_type": "markdown",
   "id": "066eaa9b",
   "metadata": {},
   "source": [
    "In this project, we have received a message from our pen pal Vishal. He has sent us a caesar cipher message. This is when every letter is shifted right in the alphabet. Our goal is to create functions to decode his messages and send encoded messages of our own. "
   ]
  },
  {
   "cell_type": "markdown",
   "id": "e6ba3109",
   "metadata": {},
   "source": [
    "Here is the message we recieved from Vishal:"
   ]
  },
  {
   "cell_type": "code",
   "execution_count": 3,
   "id": "36699e72",
   "metadata": {},
   "outputs": [],
   "source": [
    "message1 = \"xuo jxuhu! jxyi yi qd unqcfbu ev q squiqh syfxuh. muhu oek qrbu je tusetu yj? y xefu ie! iudt cu q cuiiqwu rqsa myjx jxu iqcu evviuj!\""
   ]
  },
  {
   "cell_type": "code",
   "execution_count": 4,
   "id": "f293f2df",
   "metadata": {},
   "outputs": [],
   "source": [
    "alphabet = \"abcdefghijklmnopqrstuvwxyz\""
   ]
  },
  {
   "cell_type": "code",
   "execution_count": 5,
   "id": "c1723682",
   "metadata": {
    "scrolled": true
   },
   "outputs": [
    {
     "name": "stdout",
     "output_type": "stream",
     "text": [
      "hey there! this is an example of a caesar cipher. were you able to decode it? i hope so! send me a message back with the same offset!\n"
     ]
    }
   ],
   "source": [
    "translated_message = \"\"\n",
    "for character in message1:\n",
    "    if character in alphabet:\n",
    "        character_value = alphabet.find(character)\n",
    "        if character_value + 10 > 25:\n",
    "            translated_message += alphabet[(character_value + 10) % 26]\n",
    "        if character_value + 10 < 26:\n",
    "            translated_message += alphabet[(character_value + 10)]\n",
    "    else:\n",
    "        translated_message += character\n",
    "print(translated_message)"
   ]
  },
  {
   "cell_type": "markdown",
   "id": "5f2a337f",
   "metadata": {},
   "source": [
    "We've successfully decoded Vishal's message! Now let's write our own message and encode it."
   ]
  },
  {
   "cell_type": "code",
   "execution_count": 6,
   "id": "4d31c50e",
   "metadata": {},
   "outputs": [],
   "source": [
    "response = \"hey vishal! i spent way too long decoding your message. now it is your turn to decode mine. mwahahaha!\""
   ]
  },
  {
   "cell_type": "code",
   "execution_count": 7,
   "id": "3d7d0da3",
   "metadata": {},
   "outputs": [
    {
     "name": "stdout",
     "output_type": "stream",
     "text": [
      "xuo lyixqb! y ifudj mqo jee bedw tusetydw oekh cuiiqwu. dem yj yi oekh jkhd je tusetu cydu. cmqxqxqxq!\n"
     ]
    }
   ],
   "source": [
    "encoded = \"\"\n",
    "for character in response:\n",
    "    if character in alphabet:\n",
    "        character_value = alphabet.find(character)\n",
    "        encoded += alphabet[(character_value - 10)]\n",
    "    else:\n",
    "        encoded += character\n",
    "print(encoded)"
   ]
  },
  {
   "cell_type": "markdown",
   "id": "3950cf08",
   "metadata": {},
   "source": [
    "Vishal has recieved our message and sent one back."
   ]
  },
  {
   "cell_type": "code",
   "execution_count": 8,
   "id": "8a98d085",
   "metadata": {},
   "outputs": [],
   "source": [
    "vishal_response = \"jxu evviuj veh jxu iusedt cuiiqwu yi vekhjuud.\""
   ]
  },
  {
   "cell_type": "code",
   "execution_count": 9,
   "id": "b94cb6b0",
   "metadata": {},
   "outputs": [
    {
     "name": "stdout",
     "output_type": "stream",
     "text": [
      "the offset for the second message is fourteen.\n"
     ]
    }
   ],
   "source": [
    "vish_decrypted_response = \"\"\n",
    "for character in vishal_response:\n",
    "    if character in alphabet:\n",
    "        character_value = alphabet.find(character)\n",
    "        if character_value + 10 > 25:\n",
    "            vish_decrypted_response += alphabet[(character_value + 10) % 26]\n",
    "        if character_value + 10 < 26:\n",
    "            vish_decrypted_response += alphabet[(character_value + 10)]\n",
    "    else:\n",
    "        vish_decrypted_response += character\n",
    "print(vish_decrypted_response)"
   ]
  },
  {
   "cell_type": "markdown",
   "id": "54a18dd0",
   "metadata": {},
   "source": [
    "Now it looks like we have to decode his message with an offset of fourteen. Let's do it!"
   ]
  },
  {
   "cell_type": "code",
   "execution_count": 10,
   "id": "c4245eec",
   "metadata": {},
   "outputs": [],
   "source": [
    "def caesar_decode(message, offset):\n",
    "    decoded_message = \"\"\n",
    "    for character in message:\n",
    "        if character in alphabet:\n",
    "            character_value = alphabet.find(character)\n",
    "            if character_value + offset > 25:\n",
    "                decoded_message += alphabet[(character_value + offset) % 26]\n",
    "            if character_value + offset < 26:\n",
    "                decoded_message += alphabet[(character_value + offset)]\n",
    "        else:\n",
    "            decoded_message += character\n",
    "    return decoded_message"
   ]
  },
  {
   "cell_type": "code",
   "execution_count": 11,
   "id": "4a299c4f",
   "metadata": {},
   "outputs": [
    {
     "name": "stdout",
     "output_type": "stream",
     "text": [
      "performing multiple caesar ciphers to code your messages is even more secure!\n"
     ]
    }
   ],
   "source": [
    "print(caesar_decode(\"bqdradyuzs ygxfubxq omqemd oubtqde fa oapq kagd yqeemsqe ue qhqz yadq eqogdq!\", 14))"
   ]
  },
  {
   "cell_type": "markdown",
   "id": "f27bb4fb",
   "metadata": {},
   "source": [
    "Alright! Let's create a function to encode a message with any offset we want."
   ]
  },
  {
   "cell_type": "code",
   "execution_count": 56,
   "id": "628147be",
   "metadata": {},
   "outputs": [],
   "source": [
    "def caesar_encode(message, offset):\n",
    "    encoded_message = \"\"\n",
    "    for character in message:\n",
    "        if character in alphabet:\n",
    "            character_value = alphabet.find(character)\n",
    "            encoded_message += alphabet[(character_value - offset)]\n",
    "        else:\n",
    "            encoded_message += character\n",
    "    return encoded_message"
   ]
  },
  {
   "cell_type": "code",
   "execution_count": 58,
   "id": "259d12e1",
   "metadata": {},
   "outputs": [],
   "source": [
    "mystery_message = \"vhfinmxkl atox kxgwxkxw tee hy maxlx hew vbiaxkl hulhexmx. px'ee atox mh kxteer lmxi ni hnk ztfx by px ptgm mh dxxi hnk fxlltzxl ltyx.\""
   ]
  },
  {
   "cell_type": "code",
   "execution_count": 65,
   "id": "73fcafcd",
   "metadata": {},
   "outputs": [
    {
     "name": "stdout",
     "output_type": "stream",
     "text": [
      "computers have rendered all of these old ciphers obsolete. we'll have to really step up our game if we want to keep our messages safe.\n"
     ]
    }
   ],
   "source": [
    "print(caesar_decode(mystery_message,7))"
   ]
  }
 ],
 "metadata": {
  "kernelspec": {
   "display_name": "Python 3 (ipykernel)",
   "language": "python",
   "name": "python3"
  },
  "language_info": {
   "codemirror_mode": {
    "name": "ipython",
    "version": 3
   },
   "file_extension": ".py",
   "mimetype": "text/x-python",
   "name": "python",
   "nbconvert_exporter": "python",
   "pygments_lexer": "ipython3",
   "version": "3.11.4"
  }
 },
 "nbformat": 4,
 "nbformat_minor": 5
}
